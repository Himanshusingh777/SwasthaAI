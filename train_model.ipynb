{
 "cells": [
  {
   "cell_type": "code",
   "execution_count": 1,
   "id": "ae6d5b1d",
   "metadata": {},
   "outputs": [
    {
     "name": "stdout",
     "output_type": "stream",
     "text": [
      "✅ Model trained and saved.\n"
     ]
    }
   ],
   "source": [
    "import pandas as pd\n",
    "from sklearn.preprocessing import MultiLabelBinarizer\n",
    "from sklearn.model_selection import train_test_split\n",
    "from sklearn.tree import DecisionTreeClassifier\n",
    "import pickle\n",
    "\n",
    "# Load dataset\n",
    "df = pd.read_csv(\"data/disease_dataset.csv\")\n",
    "\n",
    "# Combine all symptom columns into a list\n",
    "symptom_cols = [col for col in df.columns if col.startswith(\"Symptom\")]\n",
    "df[symptom_cols] = df[symptom_cols].fillna(\"\")\n",
    "\n",
    "# Merge symptoms into one column\n",
    "df['all_symptoms'] = df[symptom_cols].values.tolist()\n",
    "df['all_symptoms'] = df['all_symptoms'].apply(lambda x: [i for i in x if i])  # remove empty\n",
    "\n",
    "# Use MultiLabelBinarizer to create binary features for each symptom\n",
    "mlb = MultiLabelBinarizer()\n",
    "X = mlb.fit_transform(df['all_symptoms'])\n",
    "\n",
    "# Target\n",
    "y = df['Disease']\n",
    "\n",
    "# Train-test split\n",
    "X_train, X_test, y_train, y_test = train_test_split(X, y, test_size=0.2, random_state=42)\n",
    "\n",
    "# Train model\n",
    "model = DecisionTreeClassifier()\n",
    "model.fit(X_train, y_train)\n",
    "\n",
    "# Save model and symptom labels\n",
    "with open(\"model/model.pkl\", \"wb\") as f:\n",
    "    pickle.dump((model, mlb.classes_), f)\n",
    "\n",
    "print(\"✅ Model trained and saved.\")\n"
   ]
  },
  {
   "cell_type": "code",
   "execution_count": null,
   "id": "4161516c",
   "metadata": {},
   "outputs": [],
   "source": []
  }
 ],
 "metadata": {
  "kernelspec": {
   "display_name": "Python 3",
   "language": "python",
   "name": "python3"
  },
  "language_info": {
   "codemirror_mode": {
    "name": "ipython",
    "version": 3
   },
   "file_extension": ".py",
   "mimetype": "text/x-python",
   "name": "python",
   "nbconvert_exporter": "python",
   "pygments_lexer": "ipython3",
   "version": "3.10.11"
  }
 },
 "nbformat": 4,
 "nbformat_minor": 5
}
